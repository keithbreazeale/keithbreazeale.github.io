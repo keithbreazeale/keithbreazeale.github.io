{
 "cells": [
  {
   "cell_type": "code",
   "execution_count": 1,
   "metadata": {},
   "outputs": [],
   "source": [
    "from animal_shelter import AnimalShelter\n",
    "shelter = AnimalShelter(\"aacuser\",\"aacuser\")"
   ]
  },
  {
   "cell_type": "code",
   "execution_count": 3,
   "metadata": {},
   "outputs": [],
   "source": [
    "data = {\"1\": 3,\n",
    "        \"age_upon_outcome\" : \"4 years\",\n",
    "        \"animal_id\" : \"27-Mar-2023_test\",\n",
    "        \"animal_type\" : \"Dog\",\n",
    "        \"breed\" : \"Bluetick Coonhound\",\n",
    "        \"color\" : \"Black and White\",\n",
    "        \"date_of_birth\" : \"2019-01-01\",\n",
    "        \"datetime\" : \"2019-01-01 00:00:00\",\n",
    "        \"monthyear\" : \"2019-01-01T00:00:00\",\n",
    "        \"name\" : \"Courage\",\n",
    "        \"outcome_subtype\" : \"\",\n",
    "        \"outcome_type\" : \"Adoption\",\n",
    "        \"sex_upon_outcome\" : \"Female\",\n",
    "        \"location_lat\" : 35.651150,\n",
    "        \"location_long\" : -78.746020,\n",
    "        \"age_upon_outcome_in_weeks\" : 220}"
   ]
  },
  {
   "cell_type": "code",
   "execution_count": 4,
   "metadata": {},
   "outputs": [
    {
     "name": "stdout",
     "output_type": "stream",
     "text": [
      "Animal added successfully!\n"
     ]
    }
   ],
   "source": [
    "#Create Test\n",
    "shelter.create(data)\n",
    "print(\"Animal added successfully!\")"
   ]
  },
  {
   "cell_type": "code",
   "execution_count": 5,
   "metadata": {},
   "outputs": [
    {
     "name": "stdout",
     "output_type": "stream",
     "text": [
      "{'_id': ObjectId('6421893d4eccc9e1c11d2cac'), '1': 3, 'age_upon_outcome': '4 years', 'animal_id': '27-Mar-2023_test', 'animal_type': 'Dog', 'breed': 'Bluetick Coonhound', 'color': 'Black and White', 'date_of_birth': '2019-01-01', 'datetime': '2019-01-01 00:00:00', 'monthyear': '2019-01-01T00:00:00', 'name': 'Courage', 'outcome_subtype': '', 'outcome_type': 'Adoption', 'sex_upon_outcome': 'Female', 'location_lat': 35.65115, 'location_long': -78.74602, 'age_upon_outcome_in_weeks': 220}\n"
     ]
    }
   ],
   "source": [
    "#Read Test\n",
    "result = shelter.read({\"name\" : \"Courage\"})\n",
    "print(result)"
   ]
  },
  {
   "cell_type": "code",
   "execution_count": 6,
   "metadata": {},
   "outputs": [
    {
     "name": "stdout",
     "output_type": "stream",
     "text": [
      "Record Updated!\n",
      "{'n': 1, 'nModified': 1, 'ok': 1.0, 'updatedExisting': True}\n",
      "{'_id': ObjectId('6421893d4eccc9e1c11d2cac'), '1': 3, 'age_upon_outcome': '4 years', 'animal_id': '27-Mar-2023_test', 'animal_type': 'Dog', 'breed': 'Bluetick Coonhound', 'color': 'Black and White', 'date_of_birth': '2019-01-01', 'datetime': '2019-01-01 00:00:00', 'monthyear': '2019-01-01T00:00:00', 'name': 'Courage', 'outcome_subtype': '', 'outcome_type': 'Adoption', 'sex_upon_outcome': 'Spayed Female', 'location_lat': 35.65115, 'location_long': -78.74602, 'age_upon_outcome_in_weeks': 220}\n"
     ]
    }
   ],
   "source": [
    "#Update Test\n",
    "result = shelter.update({\"name\" : \"Courage\"}, {\"sex_upon_outcome\" : \"Spayed Female\"})\n",
    "print(result)\n",
    "\n",
    "#Confirm update\n",
    "result = shelter.read({\"name\" : \"Courage\"})\n",
    "print(result)"
   ]
  },
  {
   "cell_type": "code",
   "execution_count": 7,
   "metadata": {},
   "outputs": [
    {
     "name": "stdout",
     "output_type": "stream",
     "text": [
      "Record Deleted\n",
      "{'n': 1, 'ok': 1.0}\n",
      "None\n"
     ]
    }
   ],
   "source": [
    "#Delete Test\n",
    "result = shelter.delete({\"name\" : \"Courage\"})\n",
    "print(result)\n",
    "\n",
    "#Confirm deletion\n",
    "result = shelter.read({\"name\" : \"Courage\"})\n",
    "print(result)"
   ]
  },
  {
   "cell_type": "code",
   "execution_count": null,
   "metadata": {},
   "outputs": [],
   "source": []
  },
  {
   "cell_type": "code",
   "execution_count": null,
   "metadata": {},
   "outputs": [],
   "source": []
  },
  {
   "cell_type": "code",
   "execution_count": null,
   "metadata": {},
   "outputs": [],
   "source": []
  },
  {
   "cell_type": "code",
   "execution_count": null,
   "metadata": {},
   "outputs": [],
   "source": []
  }
 ],
 "metadata": {
  "kernelspec": {
   "display_name": "Python 3",
   "language": "python",
   "name": "python3"
  },
  "language_info": {
   "codemirror_mode": {
    "name": "ipython",
    "version": 3
   },
   "file_extension": ".py",
   "mimetype": "text/x-python",
   "name": "python",
   "nbconvert_exporter": "python",
   "pygments_lexer": "ipython3",
   "version": "3.6.9"
  }
 },
 "nbformat": 4,
 "nbformat_minor": 2
}
